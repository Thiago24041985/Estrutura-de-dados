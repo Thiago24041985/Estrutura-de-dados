{
  "nbformat": 4,
  "nbformat_minor": 0,
  "metadata": {
    "colab": {
      "private_outputs": true,
      "provenance": [],
      "authorship_tag": "ABX9TyPpwLb/PNX0mHlTBYUhRa6M",
      "include_colab_link": true
    },
    "kernelspec": {
      "name": "python3",
      "display_name": "Python 3"
    },
    "language_info": {
      "name": "python"
    }
  },
  "cells": [
    {
      "cell_type": "markdown",
      "metadata": {
        "id": "view-in-github",
        "colab_type": "text"
      },
      "source": [
        "<a href=\"https://colab.research.google.com/github/Thiago24041985/Estrutura-de-dados/blob/main/Untitled339.ipynb\" target=\"_parent\"><img src=\"https://colab.research.google.com/assets/colab-badge.svg\" alt=\"Open In Colab\"/></a>"
      ]
    },
    {
      "cell_type": "code",
      "execution_count": null,
      "metadata": {
        "id": "T0dvf_D7oe2i"
      },
      "outputs": [],
      "source": [
        "dia_11_saldo_inicial = 1000"
      ]
    },
    {
      "cell_type": "code",
      "source": [
        "dia_11_transacao_1 = 243\n",
        "dia_11_transacao_2 = -798.58\n",
        "dia_11_transacao_3 = 427.12\n",
        "dia_11_transacao_4 = -10.91"
      ],
      "metadata": {
        "id": "6yy1GWpRowur"
      },
      "execution_count": null,
      "outputs": []
    },
    {
      "cell_type": "code",
      "source": [
        "dia_11_saldo_final = dia_11_saldo_inicial + dia_11_transacao_1 + dia_11_transacao_2 + dia_11_transacao_3 + dia_11_transacao_4\n",
        "print(dia_11_saldo_final)"
      ],
      "metadata": {
        "id": "OJ0sXCoyowkB"
      },
      "execution_count": null,
      "outputs": []
    },
    {
      "cell_type": "code",
      "source": [
        "usuario_web = [\n",
        "    'Thiago Franca',\n",
        "    'thiago franca',\n",
        "    'tfranca258',\n",
        "    'tfranca258@gmail.com'\n",
        "]\n",
        "\n",
        "print(usuario_web)\n",
        "print(type(usuario_web))"
      ],
      "metadata": {
        "id": "hxoP1_5FqEWd"
      },
      "execution_count": null,
      "outputs": []
    },
    {
      "cell_type": "code",
      "source": [
        "idade = 20\n",
        "saldo_em_conta = 723.15\n",
        "usuario_loggendin = True\n",
        "\n",
        "usuario_web = [\n",
        "    'Thiago Franca',\n",
        "    idade,\n",
        "    'andre perez',\n",
        "    'andre123',\n",
        "    'tfranca258@gmail.com',\n",
        "    saldo_em_conta,\n",
        "    usuario_loggendin\n",
        "]\n",
        "\n",
        "print(usuario_web)\n",
        "print(type(usuario_web))\n",
        ""
      ],
      "metadata": {
        "id": "AErXFPSoqEIo"
      },
      "execution_count": null,
      "outputs": []
    },
    {
      "cell_type": "code",
      "source": [
        "fabricante_mobile_eua = ['apple','motorola']\n",
        "fabricante_mobile_china = ['xiomi','huwaei']\n",
        "fabricante_mobile = fabricante_mobile_eua + fabricante_mobile_china\n",
        "\n",
        "print(fabricante_mobile_eua)\n",
        "print(fabricante_mobile_china)\n",
        "print(fabricante_mobile)"
      ],
      "metadata": {
        "id": "TOObsKOjqEGU"
      },
      "execution_count": null,
      "outputs": []
    },
    {
      "cell_type": "code",
      "source": [
        "print(f'0: {fabricante_mobile[0]}')\n",
        "print(f'1: {fabricante_mobile[1]}')"
      ],
      "metadata": {
        "id": "SfJ9FtNRqD4i"
      },
      "execution_count": null,
      "outputs": []
    },
    {
      "cell_type": "code",
      "source": [
        "fabricante_mobile_china = fabricante_mobile[0:2]\n",
        "fabricante_mobile_eua = fabricante_mobile[2:len(fabricante_mobile)]\n",
        "\n",
        "print('china: ' + str(fabricante_mobile_china))\n",
        "print('eua: ' + str(fabricante_mobile_eua))"
      ],
      "metadata": {
        "id": "V5cM9POzusn3"
      },
      "execution_count": null,
      "outputs": []
    },
    {
      "cell_type": "code",
      "source": [
        "print(fabricante_mobile)"
      ],
      "metadata": {
        "id": "CiP7YvNwusdu"
      },
      "execution_count": null,
      "outputs": []
    },
    {
      "cell_type": "code",
      "source": [
        "fabricante_mobile[1] = 'samsung'\n",
        "print(fabricante_mobile)"
      ],
      "metadata": {
        "id": "iuoWjdbcwABE"
      },
      "execution_count": null,
      "outputs": []
    },
    {
      "cell_type": "code",
      "source": [
        "juros = [0.05,0.06,0.05,0.05,0.05]\n",
        "print(juros)"
      ],
      "metadata": {
        "id": "eAWuVwSBv_zy"
      },
      "execution_count": null,
      "outputs": []
    },
    {
      "cell_type": "code",
      "source": [
        "# inserir um elemento sem substituir: list.insert(index,val)\n",
        "juros.insert(0,0.8)\n",
        "print(juros)"
      ],
      "metadata": {
        "id": "O3dkYP-PwjCJ"
      },
      "execution_count": null,
      "outputs": []
    },
    {
      "cell_type": "code",
      "source": [
        "# inserir um elemento no fim da lista: list.append(val)\n",
        "juros.append(0.09)\n",
        "print(juros)"
      ],
      "metadata": {
        "id": "IhCprhbbxNLI"
      },
      "execution_count": null,
      "outputs": []
    },
    {
      "cell_type": "code",
      "source": [
        "# remover um elemento pelo indice: list.pop(val)\n",
        "terceiro_juros = juros.pop(3)\n",
        "print(terceiro_juros)\n",
        "print(juros)"
      ],
      "metadata": {
        "id": "08K-4kOZxM-4"
      },
      "execution_count": null,
      "outputs": []
    },
    {
      "cell_type": "code",
      "source": [
        "email = 'tfranca258@gmail.com'\n",
        "caracteres_email = list(email)\n",
        "\n",
        "print(email)\n",
        "print(caracteres_email)"
      ],
      "metadata": {
        "id": "g-Dk1zxCyUzz"
      },
      "execution_count": null,
      "outputs": []
    }
  ]
}